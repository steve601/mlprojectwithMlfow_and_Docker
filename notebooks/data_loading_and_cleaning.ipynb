{
 "cells": [
  {
   "cell_type": "code",
   "execution_count": 5,
   "metadata": {},
   "outputs": [],
   "source": [
    "import pandas as pd \n",
    "import numpy as np\n",
    "import matplotlib.pyplot as plt\n",
    "import seaborn as sns"
   ]
  },
  {
   "cell_type": "code",
   "execution_count": 6,
   "metadata": {},
   "outputs": [
    {
     "data": {
      "text/html": [
       "<div>\n",
       "<style scoped>\n",
       "    .dataframe tbody tr th:only-of-type {\n",
       "        vertical-align: middle;\n",
       "    }\n",
       "\n",
       "    .dataframe tbody tr th {\n",
       "        vertical-align: top;\n",
       "    }\n",
       "\n",
       "    .dataframe thead th {\n",
       "        text-align: right;\n",
       "    }\n",
       "</style>\n",
       "<table border=\"1\" class=\"dataframe\">\n",
       "  <thead>\n",
       "    <tr style=\"text-align: right;\">\n",
       "      <th></th>\n",
       "      <th>index</th>\n",
       "      <th>City</th>\n",
       "      <th>Date</th>\n",
       "      <th>Card Type</th>\n",
       "      <th>Exp Type</th>\n",
       "      <th>Gender</th>\n",
       "      <th>Amount</th>\n",
       "    </tr>\n",
       "  </thead>\n",
       "  <tbody>\n",
       "    <tr>\n",
       "      <th>0</th>\n",
       "      <td>0</td>\n",
       "      <td>Delhi, India</td>\n",
       "      <td>29-Oct-14</td>\n",
       "      <td>Gold</td>\n",
       "      <td>Bills</td>\n",
       "      <td>F</td>\n",
       "      <td>82475</td>\n",
       "    </tr>\n",
       "    <tr>\n",
       "      <th>1</th>\n",
       "      <td>1</td>\n",
       "      <td>Greater Mumbai, India</td>\n",
       "      <td>22-Aug-14</td>\n",
       "      <td>Platinum</td>\n",
       "      <td>Bills</td>\n",
       "      <td>F</td>\n",
       "      <td>32555</td>\n",
       "    </tr>\n",
       "    <tr>\n",
       "      <th>2</th>\n",
       "      <td>2</td>\n",
       "      <td>Bengaluru, India</td>\n",
       "      <td>27-Aug-14</td>\n",
       "      <td>Silver</td>\n",
       "      <td>Bills</td>\n",
       "      <td>F</td>\n",
       "      <td>101738</td>\n",
       "    </tr>\n",
       "    <tr>\n",
       "      <th>3</th>\n",
       "      <td>3</td>\n",
       "      <td>Greater Mumbai, India</td>\n",
       "      <td>12-Apr-14</td>\n",
       "      <td>Signature</td>\n",
       "      <td>Bills</td>\n",
       "      <td>F</td>\n",
       "      <td>123424</td>\n",
       "    </tr>\n",
       "    <tr>\n",
       "      <th>4</th>\n",
       "      <td>4</td>\n",
       "      <td>Bengaluru, India</td>\n",
       "      <td>5-May-15</td>\n",
       "      <td>Gold</td>\n",
       "      <td>Bills</td>\n",
       "      <td>F</td>\n",
       "      <td>171574</td>\n",
       "    </tr>\n",
       "  </tbody>\n",
       "</table>\n",
       "</div>"
      ],
      "text/plain": [
       "   index                   City       Date  Card Type Exp Type Gender  Amount\n",
       "0      0           Delhi, India  29-Oct-14       Gold    Bills      F   82475\n",
       "1      1  Greater Mumbai, India  22-Aug-14   Platinum    Bills      F   32555\n",
       "2      2       Bengaluru, India  27-Aug-14     Silver    Bills      F  101738\n",
       "3      3  Greater Mumbai, India  12-Apr-14  Signature    Bills      F  123424\n",
       "4      4       Bengaluru, India   5-May-15       Gold    Bills      F  171574"
      ]
     },
     "execution_count": 6,
     "metadata": {},
     "output_type": "execute_result"
    }
   ],
   "source": [
    "df = pd.read_csv('C:/Users/odhia/OneDrive/Desktop/datascienceproject/data/Credit card transactions - India - Simple.csv')\n",
    "df.head()"
   ]
  },
  {
   "cell_type": "markdown",
   "metadata": {},
   "source": [
    "### dropping the columns we don't need in model buiding"
   ]
  },
  {
   "cell_type": "markdown",
   "metadata": {},
   "source": [
    "#"
   ]
  },
  {
   "cell_type": "code",
   "execution_count": 7,
   "metadata": {},
   "outputs": [
    {
     "name": "stdout",
     "output_type": "stream",
     "text": [
      "<class 'pandas.core.frame.DataFrame'>\n",
      "RangeIndex: 26052 entries, 0 to 26051\n",
      "Data columns (total 4 columns):\n",
      " #   Column     Non-Null Count  Dtype \n",
      "---  ------     --------------  ----- \n",
      " 0   Card Type  26052 non-null  object\n",
      " 1   Exp Type   26052 non-null  object\n",
      " 2   Gender     26052 non-null  object\n",
      " 3   Amount     26052 non-null  int64 \n",
      "dtypes: int64(1), object(3)\n",
      "memory usage: 814.3+ KB\n"
     ]
    }
   ],
   "source": [
    "df.drop(['index','City','Date'],axis=1,inplace=True)\n",
    "df.info()"
   ]
  },
  {
   "cell_type": "markdown",
   "metadata": {},
   "source": [
    "### insight; our data has no null values"
   ]
  },
  {
   "cell_type": "code",
   "execution_count": 8,
   "metadata": {},
   "outputs": [
    {
     "data": {
      "text/plain": [
       "27"
      ]
     },
     "execution_count": 8,
     "metadata": {},
     "output_type": "execute_result"
    }
   ],
   "source": [
    "df.duplicated().sum()"
   ]
  },
  {
   "cell_type": "code",
   "execution_count": 9,
   "metadata": {},
   "outputs": [],
   "source": [
    "df.drop_duplicates(inplace=True)"
   ]
  },
  {
   "cell_type": "markdown",
   "metadata": {},
   "source": [
    "### renaming columns into suitable format"
   ]
  },
  {
   "cell_type": "code",
   "execution_count": 10,
   "metadata": {},
   "outputs": [],
   "source": [
    "df.columns = ['card_type','exp_type','gender','amount']"
   ]
  },
  {
   "cell_type": "code",
   "execution_count": 11,
   "metadata": {},
   "outputs": [
    {
     "data": {
      "text/html": [
       "<div>\n",
       "<style scoped>\n",
       "    .dataframe tbody tr th:only-of-type {\n",
       "        vertical-align: middle;\n",
       "    }\n",
       "\n",
       "    .dataframe tbody tr th {\n",
       "        vertical-align: top;\n",
       "    }\n",
       "\n",
       "    .dataframe thead th {\n",
       "        text-align: right;\n",
       "    }\n",
       "</style>\n",
       "<table border=\"1\" class=\"dataframe\">\n",
       "  <thead>\n",
       "    <tr style=\"text-align: right;\">\n",
       "      <th></th>\n",
       "      <th>card_type</th>\n",
       "      <th>exp_type</th>\n",
       "      <th>gender</th>\n",
       "      <th>amount</th>\n",
       "    </tr>\n",
       "  </thead>\n",
       "  <tbody>\n",
       "    <tr>\n",
       "      <th>0</th>\n",
       "      <td>Gold</td>\n",
       "      <td>Bills</td>\n",
       "      <td>F</td>\n",
       "      <td>82475</td>\n",
       "    </tr>\n",
       "    <tr>\n",
       "      <th>1</th>\n",
       "      <td>Platinum</td>\n",
       "      <td>Bills</td>\n",
       "      <td>F</td>\n",
       "      <td>32555</td>\n",
       "    </tr>\n",
       "    <tr>\n",
       "      <th>2</th>\n",
       "      <td>Silver</td>\n",
       "      <td>Bills</td>\n",
       "      <td>F</td>\n",
       "      <td>101738</td>\n",
       "    </tr>\n",
       "    <tr>\n",
       "      <th>3</th>\n",
       "      <td>Signature</td>\n",
       "      <td>Bills</td>\n",
       "      <td>F</td>\n",
       "      <td>123424</td>\n",
       "    </tr>\n",
       "    <tr>\n",
       "      <th>4</th>\n",
       "      <td>Gold</td>\n",
       "      <td>Bills</td>\n",
       "      <td>F</td>\n",
       "      <td>171574</td>\n",
       "    </tr>\n",
       "  </tbody>\n",
       "</table>\n",
       "</div>"
      ],
      "text/plain": [
       "   card_type exp_type gender  amount\n",
       "0       Gold    Bills      F   82475\n",
       "1   Platinum    Bills      F   32555\n",
       "2     Silver    Bills      F  101738\n",
       "3  Signature    Bills      F  123424\n",
       "4       Gold    Bills      F  171574"
      ]
     },
     "execution_count": 11,
     "metadata": {},
     "output_type": "execute_result"
    }
   ],
   "source": [
    "df.head()"
   ]
  },
  {
   "cell_type": "code",
   "execution_count": 12,
   "metadata": {},
   "outputs": [
    {
     "data": {
      "text/plain": [
       "card_type\n",
       "Silver       6831\n",
       "Signature    6443\n",
       "Platinum     6392\n",
       "Gold         6359\n",
       "Name: count, dtype: int64"
      ]
     },
     "execution_count": 12,
     "metadata": {},
     "output_type": "execute_result"
    }
   ],
   "source": [
    "df['card_type'].value_counts()"
   ]
  },
  {
   "cell_type": "code",
   "execution_count": 13,
   "metadata": {},
   "outputs": [
    {
     "data": {
      "text/plain": [
       "exp_type\n",
       "Food             5458\n",
       "Fuel             5249\n",
       "Bills            5072\n",
       "Entertainment    4755\n",
       "Grocery          4753\n",
       "Travel            738\n",
       "Name: count, dtype: int64"
      ]
     },
     "execution_count": 13,
     "metadata": {},
     "output_type": "execute_result"
    }
   ],
   "source": [
    "df['exp_type'].value_counts()"
   ]
  },
  {
   "cell_type": "markdown",
   "metadata": {},
   "source": [
    "### insight; 'Travel' value in the 'exp_type' may be considered as an outlier hence it can hinder model's performance"
   ]
  },
  {
   "cell_type": "code",
   "execution_count": 18,
   "metadata": {},
   "outputs": [],
   "source": [
    "def shorten_cat(x, cutoff):\n",
    "    cat_map = {}\n",
    "    for i in range(len(x)):\n",
    "        if x.values[i] >= cutoff:\n",
    "            cat_map[x.index[i]] = x.index[i]\n",
    "        else:\n",
    "            cat_map[x.index[i]] = 'Other'\n",
    "    return cat_map\n"
   ]
  },
  {
   "cell_type": "code",
   "execution_count": 19,
   "metadata": {},
   "outputs": [
    {
     "data": {
      "text/plain": [
       "exp_type\n",
       "Food             5458\n",
       "Fuel             5249\n",
       "Bills            5072\n",
       "Entertainment    4755\n",
       "Grocery          4753\n",
       "Name: count, dtype: int64"
      ]
     },
     "execution_count": 19,
     "metadata": {},
     "output_type": "execute_result"
    }
   ],
   "source": [
    "df['exp_type'] = df['exp_type'].map(shorten_cat(df['exp_type'].value_counts(),1000))\n",
    "\n",
    "df = df[df['exp_type'] != 'Other']\n",
    "\n",
    "df['exp_type'].value_counts()"
   ]
  },
  {
   "cell_type": "code",
   "execution_count": 20,
   "metadata": {},
   "outputs": [
    {
     "data": {
      "text/plain": [
       "<Axes: xlabel='amount'>"
      ]
     },
     "execution_count": 20,
     "metadata": {},
     "output_type": "execute_result"
    },
    {
     "data": {
      "image/png": "[encoded data removed]",
      "text/plain": [
       "<Figure size 640x480 with 1 Axes>"
      ]
     },
     "metadata": {},
     "output_type": "display_data"
    }
   ],
   "source": [
    "sns.boxplot(x=df.amount)"
   ]
  },
  {
   "cell_type": "code",
   "execution_count": 21,
   "metadata": {},
   "outputs": [
    {
     "name": "stdout",
     "output_type": "stream",
     "text": [
      "Shape of the data with outliers: (25287, 4)\n",
      "Shape of the data without outliers: (25015, 4)\n"
     ]
    }
   ],
   "source": [
    "print(f\"Shape of the data with outliers: {df.shape}\")\n",
    "upper = df.amount.mean() + (2*df.amount.std())\n",
    "lower = df.amount.mean() - (2*df.amount.std())\n",
    "\n",
    "df = df[(df.amount > lower) & (df.amount < upper)]\n",
    "print(f\"Shape of the data without outliers: {df.shape}\")"
   ]
  },
  {
   "cell_type": "code",
   "execution_count": 23,
   "metadata": {},
   "outputs": [
    {
     "data": {
      "text/plain": [
       "gender\n",
       "F    13015\n",
       "M    12000\n",
       "Name: count, dtype: int64"
      ]
     },
     "execution_count": 23,
     "metadata": {},
     "output_type": "execute_result"
    }
   ],
   "source": [
    "df.gender.value_counts()"
   ]
  },
  {
   "cell_type": "code",
   "execution_count": 22,
   "metadata": {},
   "outputs": [
    {
     "data": {
      "text/html": [
       "<div>\n",
       "<style scoped>\n",
       "    .dataframe tbody tr th:only-of-type {\n",
       "        vertical-align: middle;\n",
       "    }\n",
       "\n",
       "    .dataframe tbody tr th {\n",
       "        vertical-align: top;\n",
       "    }\n",
       "\n",
       "    .dataframe thead th {\n",
       "        text-align: right;\n",
       "    }\n",
       "</style>\n",
       "<table border=\"1\" class=\"dataframe\">\n",
       "  <thead>\n",
       "    <tr style=\"text-align: right;\">\n",
       "      <th></th>\n",
       "      <th>card_type</th>\n",
       "      <th>exp_type</th>\n",
       "      <th>gender</th>\n",
       "      <th>amount</th>\n",
       "    </tr>\n",
       "  </thead>\n",
       "  <tbody>\n",
       "    <tr>\n",
       "      <th>0</th>\n",
       "      <td>Gold</td>\n",
       "      <td>Bills</td>\n",
       "      <td>F</td>\n",
       "      <td>82475</td>\n",
       "    </tr>\n",
       "    <tr>\n",
       "      <th>1</th>\n",
       "      <td>Platinum</td>\n",
       "      <td>Bills</td>\n",
       "      <td>F</td>\n",
       "      <td>32555</td>\n",
       "    </tr>\n",
       "    <tr>\n",
       "      <th>2</th>\n",
       "      <td>Silver</td>\n",
       "      <td>Bills</td>\n",
       "      <td>F</td>\n",
       "      <td>101738</td>\n",
       "    </tr>\n",
       "    <tr>\n",
       "      <th>3</th>\n",
       "      <td>Signature</td>\n",
       "      <td>Bills</td>\n",
       "      <td>F</td>\n",
       "      <td>123424</td>\n",
       "    </tr>\n",
       "    <tr>\n",
       "      <th>4</th>\n",
       "      <td>Gold</td>\n",
       "      <td>Bills</td>\n",
       "      <td>F</td>\n",
       "      <td>171574</td>\n",
       "    </tr>\n",
       "  </tbody>\n",
       "</table>\n",
       "</div>"
      ],
      "text/plain": [
       "   card_type exp_type gender  amount\n",
       "0       Gold    Bills      F   82475\n",
       "1   Platinum    Bills      F   32555\n",
       "2     Silver    Bills      F  101738\n",
       "3  Signature    Bills      F  123424\n",
       "4       Gold    Bills      F  171574"
      ]
     },
     "execution_count": 22,
     "metadata": {},
     "output_type": "execute_result"
    }
   ],
   "source": [
    "df.head()"
   ]
  },
  {
   "cell_type": "code",
   "execution_count": 25,
   "metadata": {},
   "outputs": [],
   "source": [
    "df.to_csv('C:/Users/odhia/OneDrive/Desktop/datascienceproject/data/clean_dataa.csv')"
   ]
  },
  {
   "cell_type": "code",
   "execution_count": null,
   "metadata": {},
   "outputs": [],
   "source": []
  }
 ],
 "metadata": {
  "kernelspec": {
   "display_name": "env",
   "language": "python",
   "name": "python3"
  },
  "language_info": {
   "codemirror_mode": {
    "name": "ipython",
    "version": 3
   },
   "file_extension": ".py",
   "mimetype": "text/x-python",
   "name": "python",
   "nbconvert_exporter": "python",
   "pygments_lexer": "ipython3",
   "version": "3.11.3"
  }
 },
 "nbformat": 4,
 "nbformat_minor": 2
}
